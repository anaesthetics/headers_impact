{
  "cells": [
    {
      "cell_type": "code",
      "execution_count": 1,
      "id": "862be529",
      "metadata": {
        "id": "862be529"
      },
      "outputs": [],
      "source": [
        "# Football Header Impact - Model Training and Export (.pkl)\n",
        "\n",
        "import pandas as pd\n",
        "import numpy as np\n",
        "import joblib\n",
        "\n",
        "from sklearn.ensemble import RandomForestClassifier\n",
        "from sklearn.linear_model import LogisticRegression\n",
        "from sklearn.svm import SVC\n",
        "from xgboost import XGBClassifier\n",
        "from sklearn.preprocessing import StandardScaler"
      ]
    },
    {
      "cell_type": "code",
      "source": [
        "# === 1. Load Data ===\n",
        "df = pd.read_csv(\"HeadingFeatures.csv\")"
      ],
      "metadata": {
        "id": "J-iKJz90AozL"
      },
      "id": "J-iKJz90AozL",
      "execution_count": 2,
      "outputs": []
    },
    {
      "cell_type": "code",
      "source": [
        "# === 2. Define inputs ===\n",
        "features = [\"1_Dist_Bef_Head\", \"2_Fli_Bef_Head\", \"3_Fli_Aft_Head\", \"4_Dist_Aft_Head\", \"5_Head_Type\"]\n",
        "targets = {\n",
        "    \"PLA\": \"PLA (Based on Median)\",\n",
        "    \"PAA\": \"PAA (Based on Median)\"\n",
        "}"
      ],
      "metadata": {
        "id": "rp5H3Qd_Ao5J"
      },
      "id": "rp5H3Qd_Ao5J",
      "execution_count": 3,
      "outputs": []
    },
    {
      "cell_type": "code",
      "source": [
        "# === 3. Define models with hyperparameters ===\n",
        "models_dict = {\n",
        "    \"RandomForest\": RandomForestClassifier(n_estimators=100, class_weight=\"balanced\", random_state=42),\n",
        "    \"SVM\": SVC(probability=True, C=1, kernel='rbf', class_weight='balanced', random_state=42),\n",
        "    \"LogisticRegression\": LogisticRegression(solver='liblinear', C=1, class_weight='balanced', random_state=42),\n",
        "    \"XGBoost\": XGBClassifier(use_label_encoder=False, eval_metric='logloss', n_estimators=100, max_depth=5, scale_pos_weight=5.0, random_state=42)\n",
        "}\n"
      ],
      "metadata": {
        "id": "t2cvBYbuApIf"
      },
      "id": "t2cvBYbuApIf",
      "execution_count": 4,
      "outputs": []
    },
    {
      "cell_type": "code",
      "source": [
        "# === 4. Training loop ===\n",
        "for target_key, target_col in targets.items():\n",
        "    print(f\"\\n📊 Training models for target: {target_key}\")\n",
        "    y_raw = df[target_col]\n",
        "\n",
        "    if y_raw.dtype == object:\n",
        "        y = y_raw.map({\"Low\": 0, \"High\": 1}).values\n",
        "    else:\n",
        "        y = y_raw.values\n",
        "\n",
        "    X = df[features]\n",
        "\n",
        "    # === Fit scaler ===\n",
        "    scaler = StandardScaler()\n",
        "    X_scaled = scaler.fit_transform(X)\n",
        "\n",
        "    # Save one common scaler per target\n",
        "    joblib.dump(scaler, f\"scaler_{target_key}.pkl\")\n",
        "\n",
        "    for model_name, model in models_dict.items():\n",
        "        print(f\"🔧 Training {model_name}...\")\n",
        "        model.fit(X_scaled, y)\n",
        "\n",
        "        # Predict probabilities and compute median threshold\n",
        "        proba = model.predict_proba(X_scaled)[:, 1]\n",
        "        threshold = float(np.median(proba))  # Convert to float to make it JSON serializable\n",
        "\n",
        "        # Save model and threshold\n",
        "        joblib.dump(model, f\"{model_name.lower()}_{target_key}.pkl\")\n",
        "        joblib.dump(threshold, f\"threshold_{model_name.lower()}_{target_key}.pkl\")\n",
        "\n",
        "        print(f\"✅ Saved model + threshold: {model_name.lower()}_{target_key}.pkl (median threshold: {threshold:.3f})\")\n",
        "\n",
        "print(\"\\n🎉 All models and thresholds saved.\")"
      ],
      "metadata": {
        "colab": {
          "base_uri": "https://localhost:8080/"
        },
        "id": "65GqltWjApQb",
        "outputId": "1ecda92b-ae48-4229-ad77-e1d10f5087eb"
      },
      "id": "65GqltWjApQb",
      "execution_count": 5,
      "outputs": [
        {
          "output_type": "stream",
          "name": "stdout",
          "text": [
            "\n",
            "📊 Training models for target: PLA\n",
            "🔧 Training RandomForest...\n",
            "✅ Saved model + threshold: randomforest_PLA.pkl (median threshold: 0.475)\n",
            "🔧 Training SVM...\n",
            "✅ Saved model + threshold: svm_PLA.pkl (median threshold: 0.478)\n",
            "🔧 Training LogisticRegression...\n",
            "✅ Saved model + threshold: logisticregression_PLA.pkl (median threshold: 0.571)\n",
            "🔧 Training XGBoost...\n",
            "✅ Saved model + threshold: xgboost_PLA.pkl (median threshold: 0.823)\n",
            "\n",
            "📊 Training models for target: PAA\n",
            "🔧 Training RandomForest...\n",
            "✅ Saved model + threshold: randomforest_PAA.pkl (median threshold: 0.455)\n",
            "🔧 Training SVM...\n",
            "✅ Saved model + threshold: svm_PAA.pkl (median threshold: 0.487)\n",
            "🔧 Training LogisticRegression...\n",
            "✅ Saved model + threshold: logisticregression_PAA.pkl (median threshold: 0.426)\n",
            "🔧 Training XGBoost...\n",
            "✅ Saved model + threshold: xgboost_PAA.pkl (median threshold: 0.804)\n",
            "\n",
            "🎉 All models and thresholds saved.\n"
          ]
        },
        {
          "output_type": "stream",
          "name": "stderr",
          "text": [
            "/usr/local/lib/python3.11/dist-packages/xgboost/training.py:183: UserWarning: [00:37:58] WARNING: /workspace/src/learner.cc:738: \n",
            "Parameters: { \"use_label_encoder\" } are not used.\n",
            "\n",
            "  bst.update(dtrain, iteration=i, fobj=obj)\n",
            "/usr/local/lib/python3.11/dist-packages/xgboost/training.py:183: UserWarning: [00:37:59] WARNING: /workspace/src/learner.cc:738: \n",
            "Parameters: { \"use_label_encoder\" } are not used.\n",
            "\n",
            "  bst.update(dtrain, iteration=i, fobj=obj)\n"
          ]
        }
      ]
    }
  ],
  "metadata": {
    "colab": {
      "provenance": []
    },
    "language_info": {
      "name": "python"
    },
    "kernelspec": {
      "name": "python3",
      "display_name": "Python 3"
    }
  },
  "nbformat": 4,
  "nbformat_minor": 5
}